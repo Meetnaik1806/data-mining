{
 "cells": [
  {
   "cell_type": "code",
   "execution_count": 2,
   "id": "48c0e7f7",
   "metadata": {},
   "outputs": [],
   "source": [
    "import tweepy\n",
    "import configparser"
   ]
  },
  {
   "cell_type": "code",
   "execution_count": 3,
   "id": "e9c25bdf",
   "metadata": {},
   "outputs": [],
   "source": [
    "config = configparser.ConfigParser()"
   ]
  },
  {
   "cell_type": "code",
   "execution_count": 4,
   "id": "a0f636bb",
   "metadata": {},
   "outputs": [
    {
     "data": {
      "text/plain": [
       "[]"
      ]
     },
     "execution_count": 4,
     "metadata": {},
     "output_type": "execute_result"
    }
   ],
   "source": [
    "config.read('config.ini')"
   ]
  },
  {
   "cell_type": "code",
   "execution_count": null,
   "id": "fa75cc45",
   "metadata": {},
   "outputs": [],
   "source": []
  },
  {
   "cell_type": "code",
   "execution_count": 6,
   "id": "ab1d3c72",
   "metadata": {},
   "outputs": [],
   "source": [
    "api_key = 'O9SPLPO0yzGAcAYKCzKiH90p3'\n",
    "api_key_secret = 'b8xNObhWRa8bwTQb5Zxlt61ZHNJMeyjODulWy4j6jSFpSJoTIS'\n",
    "\n",
    "Access_Token = '1619386859343298560-QyEHIajlvMoDDCtkzG21zDsKFOi6f2'\n",
    "Access_Token_Secret = 'Q2Af5vMsIvzshAUAkbKqCIm6MdMQDJYjThqsuPlS1SIfj'"
   ]
  },
  {
   "cell_type": "code",
   "execution_count": 7,
   "id": "de1f7409",
   "metadata": {},
   "outputs": [
    {
     "name": "stdout",
     "output_type": "stream",
     "text": [
      "O9SPLPO0yzGAcAYKCzKiH90p3\n"
     ]
    }
   ],
   "source": [
    "print(api_key)"
   ]
  },
  {
   "cell_type": "code",
   "execution_count": 8,
   "id": "d8c5af78",
   "metadata": {},
   "outputs": [],
   "source": [
    "#autheentication\n",
    "\n",
    "auth = tweepy.OAuthHandler(api_key,api_key_secret)\n",
    "auth.set_access_token(Access_Token,Access_Token_Secret)"
   ]
  },
  {
   "cell_type": "code",
   "execution_count": 19,
   "id": "24ddc3fe",
   "metadata": {},
   "outputs": [],
   "source": [
    "api = tweepy.API(auth)\n",
    "keywords = 'covid'\n",
    "limit = 20"
   ]
  },
  {
   "cell_type": "code",
   "execution_count": 20,
   "id": "59f55021",
   "metadata": {},
   "outputs": [],
   "source": [
    "public_tweets = api.search_tweets(count = limit, q= keywords,tweet_mode = 'extended')"
   ]
  },
  {
   "cell_type": "code",
   "execution_count": 21,
   "id": "6b061bf9",
   "metadata": {},
   "outputs": [
    {
     "name": "stdout",
     "output_type": "stream",
     "text": [
      "RT @centralpolitcs: Por fim, o deputado lembra que Bolsonaro declarou que não ter tomado a vacina contra a Covid, requisito para cidadãos c…\n",
      "RT @Mysta_Rias: Covid huh? Hm alright \n",
      "Sorry to all the fans who were looking forward to this event and all the members who have been caugh…\n",
      "RT @RWittenbrink: Die kanadische Regierung sagt nun, dass Reinfektionen innerhalb von 20 bis 60 Tagen auftreten können. Dieser Anstieg der…\n",
      "RT @BOROWSKIMIKE: Depuis le 1er février il n’est plus besoin de s’isoler lorsqu’on est positif au Covid, ça signifie que les pouvoirs publi…\n",
      "RT @FullFact: On TalkTV this evening Boris Johnson claimed the UK wouldn't have been able to approve the Covid-19 vaccines as quickly as it…\n",
      "US released covid that was made in Ukraine. Blamed China and made sure their own US population suffered so as not to have the finger pointed. Purpose to finish off the already shrinking populations of russia and china- A theory\n",
      "RT @_kanabo_: @AspecPeople like obviously she’s not that concerned about her safety (or others) from covid if we’re reaching for “masking m…\n",
      "RT @LatanneRene: UN Initiative Targets and Doxes Doctors and Nurses Who Don’t Follow COVID-19 Narrative https://t.co/0cNjkJTFlO\n",
      "@goddeketal Back when it was bad and i had contact with a positive person and i went to get tested , my son is very susceptible to getting sick, and after going to 7 different places and they told me no because i wasnt sick \n",
      "\n",
      "Then the stupid covid restrictions that made no sense\n",
      "RT @lyndastraffin: Every American has suffered at the hands of the GOP. Covid deaths, mass shooting deaths and peace of mind destroyed just…\n",
      "@rlexier @RachelNotley We don't care about Covid anymore. We just love to see each other's smiles 😃\n",
      "RT @lyndastraffin: Every American has suffered at the hands of the GOP. Covid deaths, mass shooting deaths and peace of mind destroyed just…\n",
      "RT @garetheve: I miss your beautiful face so much Mrs.\n",
      "\n",
      "One day soon I will tell your story, ask the questions that need to be asked, and g…\n",
      "RT @MariaBartiromo: The only thing to conclude is the CCP must have so much onthe Biden family, this administration will not react to any o…\n",
      "RT @MariaBartiromo: The only thing to conclude is the CCP must have so much onthe Biden family, this administration will not react to any o…\n",
      "@paramaniac9 @ShawnHereth @scottstocker4 @Jaytee116James @Monstercoyliar @DrDavidMoore11 @mcfunny @AndrewLazarus4 @Pouldeau61 @LummHandy @JKelleyK @IdunsDaughter @kevinoler @TonyBaduy @JonathanHannah @SariellaForever @ogilville1 @MaureenStroud @provaxtexan @TakethatCt @lazlowoodbine42 @Scary7Dr @nuhope2022 @pawley_robert @goz421 @tomsirolimus @JordanDoll7 @JimeeLiberty @doritmi @jtmayes3 @richykirsh @ZeetubesII @WendyOrent @ConsequentialBr @Frenchg11623069 @TheRoyalRant @doom37455413 @ACMEAtomicAce @giannmi @saluce65 @reacharoundu @dense_evi @Sasquatch4eva @RickeyH64219156 @IanB_67 @Kathmarval @RadioColor @swedishchf @AspAlaAsnAsnTyr You have yet to demonstrate any understanding of what happens in the covid sphere. For someone who purports to be a paramedic, that is extraordinary.\n"
     ]
    }
   ],
   "source": [
    "for tweet in public_tweets:\n",
    "    print(tweet.full_text)"
   ]
  },
  {
   "cell_type": "code",
   "execution_count": null,
   "id": "f44b1130",
   "metadata": {},
   "outputs": [],
   "source": []
  }
 ],
 "metadata": {
  "kernelspec": {
   "display_name": "Python 3 (ipykernel)",
   "language": "python",
   "name": "python3"
  },
  "language_info": {
   "codemirror_mode": {
    "name": "ipython",
    "version": 3
   },
   "file_extension": ".py",
   "mimetype": "text/x-python",
   "name": "python",
   "nbconvert_exporter": "python",
   "pygments_lexer": "ipython3",
   "version": "3.10.7"
  }
 },
 "nbformat": 4,
 "nbformat_minor": 5
}
